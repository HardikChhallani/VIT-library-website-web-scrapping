{
 "cells": [
  {
   "cell_type": "code",
   "execution_count": 1,
   "id": "f2a8b576",
   "metadata": {},
   "outputs": [
    {
     "name": "stdout",
     "output_type": "stream",
     "text": [
      "Requirement already satisfied: tqdm in c:\\users\\hardik\\anaconda3\\lib\\site-packages (4.65.0)\n",
      "Requirement already satisfied: colorama in c:\\users\\hardik\\anaconda3\\lib\\site-packages (from tqdm) (0.4.6)\n"
     ]
    }
   ],
   "source": [
    "!pip install tqdm"
   ]
  },
  {
   "cell_type": "code",
   "execution_count": 2,
   "id": "15a80576",
   "metadata": {
    "collapsed": true
   },
   "outputs": [
    {
     "name": "stderr",
     "output_type": "stream",
     "text": [
      "ERROR: Could not find a version that satisfies the requirement time (from versions: none)\n",
      "ERROR: No matching distribution found for time\n"
     ]
    }
   ],
   "source": [
    "!pip install time"
   ]
  },
  {
   "cell_type": "code",
   "execution_count": 1,
   "id": "65d58554",
   "metadata": {},
   "outputs": [],
   "source": [
    "import pandas as pd\n",
    "import requests\n",
    "from bs4 import BeautifulSoup\n",
    "import numpy as np\n",
    "from tqdm.notebook import tqdm_notebook\n",
    "import time"
   ]
  },
  {
   "cell_type": "code",
   "execution_count": 2,
   "id": "379b0dfd",
   "metadata": {},
   "outputs": [],
   "source": [
    "session = requests.Session()\n",
    "\n",
    "payload = {\n",
    "    'userid':'22BCE2454',\n",
    "    'password':'#Un3599known'\n",
    "}"
   ]
  },
  {
   "cell_type": "code",
   "execution_count": 3,
   "id": "f214ea61",
   "metadata": {
    "scrolled": false
   },
   "outputs": [
    {
     "data": {
      "text/plain": [
       "<Response [200]>"
      ]
     },
     "execution_count": 3,
     "metadata": {},
     "output_type": "execute_result"
    }
   ],
   "source": [
    "url = \"http://webopac.vit.ac.in/\"\n",
    "s = session.post(url,data=payload)\n",
    "s"
   ]
  },
  {
   "cell_type": "code",
   "execution_count": 4,
   "id": "ebd23d2e",
   "metadata": {},
   "outputs": [],
   "source": [
    "#final_df = pd.DataFrame()"
   ]
  },
  {
   "cell_type": "code",
   "execution_count": null,
   "id": "396692d5",
   "metadata": {},
   "outputs": [
    {
     "data": {
      "application/vnd.jupyter.widget-view+json": {
       "model_id": "7114a0826f43493c97d078c2bc4d70a4",
       "version_major": 2,
       "version_minor": 0
      },
      "text/plain": [
       "  0%|          | 0/93000 [00:00<?, ?it/s]"
      ]
     },
     "metadata": {},
     "output_type": "display_data"
    }
   ],
   "source": [
    "title = []\n",
    "author= []\n",
    "barcode = []\n",
    "location = []\n",
    "material_type = []\n",
    "format_form = []\n",
    "literary_form = []\n",
    "publisher = []\n",
    "available = []\n",
    "img_link = []\n",
    "for i in tqdm_notebook(range(0,93000)):\n",
    "    webpage = session.get(f'http://webopac.vit.ac.in/cgi-bin/koha/opac-search.pl?&limit=yr%2Cst-numeric%3D1984-&offset={i}&sort_by=relevance').text\n",
    "    soup = BeautifulSoup(webpage,'lxml')\n",
    "    try:\n",
    "        title.append(soup.find('a',class_='title').text.strip())\n",
    "    except:\n",
    "        title.append(np.nan)\n",
    "    try:\n",
    "        author.append(soup.find('span',class_='author').text.strip())\n",
    "    except:\n",
    "        author.append(np.nan)\n",
    "    try:\n",
    "        barcode.append(soup.find('span',class_='results_summary Barcode').contents[-1].strip())\n",
    "    except:\n",
    "        barcode.append(np.nan)\n",
    "    try:\n",
    "        location.append(soup.find('span',class_='results_summary Location').contents[-1].strip())\n",
    "    except:\n",
    "        location.append(np.nan)\n",
    "    try:\n",
    "        material_type.append(soup.find('span',class_='results_material_type').contents[-1].strip())\n",
    "    except:\n",
    "        material_type.append(np.nan)\n",
    "    try:\n",
    "        format_form.append(soup.find('span',class_='results_format').contents[-1].strip())\n",
    "    except:\n",
    "        format_form.append(np.nan)\n",
    "    try:\n",
    "        literary_form.append(soup.find('span',class_='results_contents_literary').contents[-1].strip())\n",
    "    except:\n",
    "        literary_form.append(np.nan)\n",
    "    try:\n",
    "        publisher.append(soup.find('span',class_='results_summary publisher').contents[-1].strip())\n",
    "    except:\n",
    "        publisher.append(np.nan)\n",
    "    try:\n",
    "        available.append(soup.find('span',class_='available').text.strip())\n",
    "    except:\n",
    "        available.append(np.nan)\n",
    "    try:\n",
    "        img_link.append(soup.find('img').get('src'))\n",
    "    except:\n",
    "        img_link.append(np.nan)\n",
    "    \n",
    "    \n",
    "df = pd.DataFrame({\n",
    "    'Title':title,\n",
    "    'Author':author,\n",
    "    \"Barcode Number\":barcode,\n",
    "    \"Location In Library\":location,\n",
    "    \"Material type\":material_type,\n",
    "    \"Format\":format_form,\n",
    "    \"Literary form\":literary_form,\n",
    "    \"Publisher\":publisher,\n",
    "    \"Availability\":available,\n",
    "    \"Image\":img_link\n",
    "})"
   ]
  },
  {
   "cell_type": "code",
   "execution_count": null,
   "id": "6bfdb74d",
   "metadata": {},
   "outputs": [],
   "source": [
    "df = pd.DataFrame({\n",
    "    'Title':title,\n",
    "    'Author':author,\n",
    "    \"Barcode Number\":barcode,\n",
    "    \"Location In Library\":location,\n",
    "    \"Material type\":material_type,\n",
    "    \"Format\":format_form,\n",
    "    \"Literary form\":literary_form,\n",
    "    \"Publisher\":publisher,\n",
    "    \"Availability\":available,\n",
    "    \"Image\":img_link\n",
    "})"
   ]
  },
  {
   "cell_type": "code",
   "execution_count": null,
   "id": "62972629",
   "metadata": {
    "scrolled": true
   },
   "outputs": [],
   "source": [
    "final_df = pd.concat([final_df,df],ignore_index = True)\n",
    "final_df"
   ]
  },
  {
   "cell_type": "code",
   "execution_count": null,
   "id": "6d533bb6",
   "metadata": {},
   "outputs": [],
   "source": [
    "#final_df.to_csv('koha.csv')"
   ]
  },
  {
   "cell_type": "code",
   "execution_count": null,
   "id": "36db87fb",
   "metadata": {},
   "outputs": [],
   "source": [
    "# df = pd.DataFrame({\n",
    "#     'Title':title,\n",
    "#     'Author':author,\n",
    "#     \"Barcode Number\":barcode,\n",
    "#     \"Location In Library\":location,\n",
    "#     \"Material type\":material_type,\n",
    "#     \"Format\":format_form,\n",
    "#     \"Literary form\":literary_form,\n",
    "#     \"Publisher\":publisher,\n",
    "#     \"Availability\":available,\n",
    "#     \"Image\":img_link\n",
    "# })"
   ]
  }
 ],
 "metadata": {
  "kernelspec": {
   "display_name": "Python 3 (ipykernel)",
   "language": "python",
   "name": "python3"
  },
  "language_info": {
   "codemirror_mode": {
    "name": "ipython",
    "version": 3
   },
   "file_extension": ".py",
   "mimetype": "text/x-python",
   "name": "python",
   "nbconvert_exporter": "python",
   "pygments_lexer": "ipython3",
   "version": "3.10.9"
  }
 },
 "nbformat": 4,
 "nbformat_minor": 5
}
