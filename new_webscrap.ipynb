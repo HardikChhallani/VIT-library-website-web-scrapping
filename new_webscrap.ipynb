{
 "cells": [
  {
   "cell_type": "code",
   "execution_count": null,
   "id": "7a3633fb",
   "metadata": {},
   "outputs": [],
   "source": [
    "import pandas as pd\n",
    "import requests\n",
    "from bs4 import BeautifulSoup\n",
    "import numpy as np\n",
    "from tqdm.notebook import tqdm_notebook\n",
    "import time"
   ]
  },
  {
   "cell_type": "code",
   "execution_count": null,
   "id": "d1bb9267",
   "metadata": {},
   "outputs": [],
   "source": [
    "session = requests.Session()\n",
    "\n",
    "payload = {\n",
    "    'userid':'22BCE2454',\n",
    "    'password':'#Un3599known'\n",
    "}\n",
    "\n",
    "url = \"http://webopac.vit.ac.in/\"\n",
    "s = session.post(url,data=payload)\n",
    "s"
   ]
  },
  {
   "cell_type": "code",
   "execution_count": null,
   "id": "67e9f079",
   "metadata": {},
   "outputs": [],
   "source": [
    "final_df = pd.DataFrame()"
   ]
  },
  {
   "cell_type": "code",
   "execution_count": null,
   "id": "0e420d4b",
   "metadata": {
    "scrolled": true
   },
   "outputs": [],
   "source": [
    "for i in tqdm_notebook(range(0,92940,20)):\n",
    "    webpage = session.get(f'http://webopac.vit.ac.in/cgi-bin/koha/opac-search.pl?&limit=yr%2Cst-numeric%3D1984-&offset={i}&sort_by=relevance').text\n",
    "    soup = BeautifulSoup(webpage,'lxml')\n",
    "    content = soup.find_all('td',class_='bibliocol')\n",
    "    title = []\n",
    "    author= []\n",
    "    barcode = []\n",
    "    location = []\n",
    "    material_type = []\n",
    "    format_form = []\n",
    "    literary_form = []\n",
    "    publisher = []\n",
    "    available = []\n",
    "    img_link = []\n",
    "    for j in content:\n",
    "        try:\n",
    "            title.append(j.find('a',class_='title').text.strip())\n",
    "        except:\n",
    "            title.append(np.nan)\n",
    "        try:\n",
    "            author.append(j.find('span',class_='author').text.strip())\n",
    "        except:\n",
    "            author.append(np.nan)\n",
    "        try:\n",
    "            barcode.append(j.find('span',class_='results_summary Barcode').contents[-1].strip())\n",
    "        except:\n",
    "            barcode.append(np.nan)\n",
    "        try:\n",
    "            location.append(j.find('span',class_='results_summary Location').contents[-1].strip())\n",
    "        except:\n",
    "            location.append(np.nan)\n",
    "        try:\n",
    "            material_type.append(j.find('span',class_='results_material_type').contents[-1].strip())\n",
    "        except:\n",
    "            material_type.append(np.nan)\n",
    "        try:\n",
    "            format_form.append(j.find('span',class_='results_format').contents[-1].strip())\n",
    "        except:\n",
    "            format_form.append(np.nan)\n",
    "        try:\n",
    "            literary_form.append(j.find('span',class_='results_contents_literary').contents[-1].strip())\n",
    "        except:\n",
    "            literary_form.append(np.nan)\n",
    "        try:\n",
    "            publisher.append(j.find('span',class_='results_summary publisher').contents[-1].strip())\n",
    "        except:\n",
    "            publisher.append(np.nan)\n",
    "        try:\n",
    "            available.append(j.find('span',class_='available').text.strip())\n",
    "        except:\n",
    "            available.append(np.nan)\n",
    "        try:\n",
    "            img_link.append(j.find('img').get('src'))\n",
    "        except:\n",
    "            img_link.append(np.nan)\n",
    "    \n",
    "    df = pd.DataFrame({\n",
    "    'Title':title,\n",
    "    'Author':author,\n",
    "    \"Barcode Number\":barcode,\n",
    "    \"Location In Library\":location,\n",
    "    \"Material type\":material_type,\n",
    "    \"Format\":format_form,\n",
    "    \"Literary form\":literary_form,\n",
    "    \"Publisher\":publisher,\n",
    "    \"Availability\":available,\n",
    "    \"Image\":img_link\n",
    "    })\n",
    "    final_df = pd.concat([final_df,df],ignore_index = True)\n",
    "    time.sleep(0.1)\n",
    "    print(final_df['Title'].tail(1))\n",
    "    "
   ]
  },
  {
   "cell_type": "code",
   "execution_count": null,
   "id": "ad81ec3f",
   "metadata": {},
   "outputs": [],
   "source": [
    "final_df.to_csv('koha.csv')"
   ]
  },
  {
   "cell_type": "code",
   "execution_count": null,
   "id": "44bcff57",
   "metadata": {},
   "outputs": [],
   "source": [
    "final_df"
   ]
  }
 ],
 "metadata": {
  "kernelspec": {
   "display_name": "Python 3 (ipykernel)",
   "language": "python",
   "name": "python3"
  },
  "language_info": {
   "codemirror_mode": {
    "name": "ipython",
    "version": 3
   },
   "file_extension": ".py",
   "mimetype": "text/x-python",
   "name": "python",
   "nbconvert_exporter": "python",
   "pygments_lexer": "ipython3",
   "version": "3.10.9"
  }
 },
 "nbformat": 4,
 "nbformat_minor": 5
}
